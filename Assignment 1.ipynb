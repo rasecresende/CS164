{
 "cells": [
  {
   "cell_type": "markdown",
   "metadata": {},
   "source": [
    "## Technical Appendix"
   ]
  },
  {
   "cell_type": "code",
   "execution_count": 1,
   "metadata": {},
   "outputs": [
    {
     "data": {
      "text/html": [
       "<html><script type=\"math/tex; mode=display\">\\newcommand{\\Bold}[1]{\\mathbf{#1}}\\left(\\begin{array}{rr}\n",
       "-2 & 1 \\\\\n",
       "1 & -2\n",
       "\\end{array}\\right)</script></html>"
      ],
      "text/latex": [
       "\\begin{math}\n",
       "\\newcommand{\\Bold}[1]{\\mathbf{#1}}\\left(\\begin{array}{rr}\n",
       "-2 & 1 \\\\\n",
       "1 & -2\n",
       "\\end{array}\\right)\n",
       "\\end{math}"
      ],
      "text/plain": [
       "[-2  1]\n",
       "[ 1 -2]"
      ]
     },
     "metadata": {},
     "output_type": "display_data"
    }
   ],
   "source": [
    "A = Matrix([[-2,1],[1,-2]])\n",
    "\n",
    "show(A)"
   ]
  },
  {
   "cell_type": "code",
   "execution_count": 2,
   "metadata": {},
   "outputs": [
    {
     "data": {
      "text/html": [
       "<html><script type=\"math/tex; mode=display\">\\newcommand{\\Bold}[1]{\\mathbf{#1}}\\left(\\begin{array}{rrr}\n",
       "-2 & 1 & 1 \\\\\n",
       "1 & 2 & 1 \\\\\n",
       "1 & 1 & -2\n",
       "\\end{array}\\right)</script></html>"
      ],
      "text/latex": [
       "\\begin{math}\n",
       "\\newcommand{\\Bold}[1]{\\mathbf{#1}}\\left(\\begin{array}{rrr}\n",
       "-2 & 1 & 1 \\\\\n",
       "1 & 2 & 1 \\\\\n",
       "1 & 1 & -2\n",
       "\\end{array}\\right)\n",
       "\\end{math}"
      ],
      "text/plain": [
       "[-2  1  1]\n",
       "[ 1  2  1]\n",
       "[ 1  1 -2]"
      ]
     },
     "metadata": {},
     "output_type": "display_data"
    },
    {
     "name": "stdout",
     "output_type": "stream",
     "text": [
      "Positive det? True\n",
      "Symmetric? True\n",
      "Eigenvalues:\n",
      " [-3, -1.561552812808831?, 2.561552812808830?]\n"
     ]
    }
   ],
   "source": [
    "B = Matrix([[-2,1,1],[1,2,1], [1,1,-2]])\n",
    "\n",
    "show(B)\n",
    "\n",
    "print('Positive det?', B.det()>0)\n",
    "print('Symmetric?',B == B.transpose())\n",
    "print('Eigenvalues:\\n', B.eigenvalues())"
   ]
  },
  {
   "cell_type": "code",
   "execution_count": 3,
   "metadata": {},
   "outputs": [
    {
     "name": "stdout",
     "output_type": "stream",
     "text": [
      "(2*e*y + x)*x + y^2 - (2*x - 4*y - 5*z)*z\n"
     ]
    },
    {
     "data": {
      "text/html": [
       "<html><script type=\"math/tex; mode=display\">\\newcommand{\\Bold}[1]{\\mathbf{#1}}\\left(\\begin{array}{rrr}\n",
       "1 & 0 & -2 \\\\\n",
       "2 \\, e & 1 & 4 \\\\\n",
       "0 & 0 & 5\n",
       "\\end{array}\\right)</script></html>"
      ],
      "text/latex": [
       "\\begin{math}\n",
       "\\newcommand{\\Bold}[1]{\\mathbf{#1}}\\left(\\begin{array}{rrr}\n",
       "1 & 0 & -2 \\\\\n",
       "2 \\, e & 1 & 4 \\\\\n",
       "0 & 0 & 5\n",
       "\\end{array}\\right)\n",
       "\\end{math}"
      ],
      "text/plain": [
       "[  1   0  -2]\n",
       "[2*e   1   4]\n",
       "[  0   0   5]"
      ]
     },
     "metadata": {},
     "output_type": "display_data"
    }
   ],
   "source": [
    "var('x,y,z,e')\n",
    "\n",
    "M = Matrix([[1,0,-2],[2*e,1,4], [0,0,5]])\n",
    "\n",
    "v = vector([x,y,z])\n",
    "\n",
    "print(v*M*v)\n",
    "\n",
    "show(M)"
   ]
  },
  {
   "cell_type": "code",
   "execution_count": 4,
   "metadata": {},
   "outputs": [
    {
     "name": "stdout",
     "output_type": "stream",
     "text": [
      "False\n",
      "[1, 1, 5]\n"
     ]
    },
    {
     "data": {
      "text/html": [
       "<html><script type=\"math/tex; mode=display\">\\newcommand{\\Bold}[1]{\\mathbf{#1}}\\left(\\begin{array}{rrr}\n",
       "1 & 0 & -2 \\\\\n",
       "2 \\, e & 1 & 4 \\\\\n",
       "0 & 0 & 5\n",
       "\\end{array}\\right)</script></html>"
      ],
      "text/latex": [
       "\\begin{math}\n",
       "\\newcommand{\\Bold}[1]{\\mathbf{#1}}\\left(\\begin{array}{rrr}\n",
       "1 & 0 & -2 \\\\\n",
       "2 \\, e & 1 & 4 \\\\\n",
       "0 & 0 & 5\n",
       "\\end{array}\\right)\n",
       "\\end{math}"
      ],
      "text/plain": [
       "[  1   0  -2]\n",
       "[2*e   1   4]\n",
       "[  0   0   5]"
      ]
     },
     "metadata": {},
     "output_type": "display_data"
    },
    {
     "data": {
      "text/html": [
       "<html><script type=\"math/tex; mode=display\">\\newcommand{\\Bold}[1]{\\mathbf{#1}}\\left(\\begin{array}{rrr}\n",
       "1 & 2 \\, e & 0 \\\\\n",
       "0 & 1 & 0 \\\\\n",
       "-2 & 4 & 5\n",
       "\\end{array}\\right)</script></html>"
      ],
      "text/latex": [
       "\\begin{math}\n",
       "\\newcommand{\\Bold}[1]{\\mathbf{#1}}\\left(\\begin{array}{rrr}\n",
       "1 & 2 \\, e & 0 \\\\\n",
       "0 & 1 & 0 \\\\\n",
       "-2 & 4 & 5\n",
       "\\end{array}\\right)\n",
       "\\end{math}"
      ],
      "text/plain": [
       "[  1 2*e   0]\n",
       "[  0   1   0]\n",
       "[ -2   4   5]"
      ]
     },
     "metadata": {},
     "output_type": "display_data"
    }
   ],
   "source": [
    "M2 = Matrix([[1,0,-2],[2*e, 1,4], [0,0,5]])\n",
    "\n",
    "print(M2 == M2.transpose())\n",
    "print(M2.eigenvalues())\n",
    "\n",
    "\n",
    "show(M2)\n",
    "show(M2.transpose())"
   ]
  },
  {
   "cell_type": "code",
   "execution_count": 5,
   "metadata": {},
   "outputs": [
    {
     "name": "stdout",
     "output_type": "stream",
     "text": [
      "False\n"
     ]
    },
    {
     "data": {
      "text/plain": [
       "(x - 4*y)*x + y^2"
      ]
     },
     "execution_count": 5,
     "metadata": {},
     "output_type": "execute_result"
    }
   ],
   "source": [
    "Q = Matrix([[1,0],[-4,1]])\n",
    "\n",
    "Q.det()\n",
    "\n",
    "print(Q == Q.transpose())\n",
    "\n",
    "v = vector([x,y])\n",
    "\n",
    "v*Q*v"
   ]
  },
  {
   "cell_type": "code",
   "execution_count": 6,
   "metadata": {},
   "outputs": [
    {
     "name": "stdout",
     "output_type": "stream",
     "text": [
      "Symmetric? True\n"
     ]
    },
    {
     "data": {
      "text/html": [
       "<html><script type=\"math/tex; mode=display\">\\newcommand{\\Bold}[1]{\\mathbf{#1}}\\left(\\begin{array}{rr}\n",
       "1 & -2 \\\\\n",
       "-2 & 1\n",
       "\\end{array}\\right)</script></html>"
      ],
      "text/latex": [
       "\\begin{math}\n",
       "\\newcommand{\\Bold}[1]{\\mathbf{#1}}\\left(\\begin{array}{rr}\n",
       "1 & -2 \\\\\n",
       "-2 & 1\n",
       "\\end{array}\\right)\n",
       "\\end{math}"
      ],
      "text/plain": [
       "[ 1 -2]\n",
       "[-2  1]"
      ]
     },
     "metadata": {},
     "output_type": "display_data"
    },
    {
     "name": "stdout",
     "output_type": "stream",
     "text": [
      "Quadratic form: (x - 2*y)*x - (2*x - y)*y\n",
      "Eigenvalues: [3, -1]\n"
     ]
    }
   ],
   "source": [
    "Q0 = Matrix([[1,-2],[-2,1]])\n",
    "print('Symmetric?',Q0==Q0.transpose())\n",
    "\n",
    "show(Q0)\n",
    "\n",
    "v = vector([x,y])\n",
    "print('Quadratic form:',v*Q0*v)\n",
    "print('Eigenvalues:',Q0.eigenvalues())"
   ]
  },
  {
   "cell_type": "code",
   "execution_count": 7,
   "metadata": {},
   "outputs": [
    {
     "name": "stdout",
     "output_type": "stream",
     "text": [
      "First leading principal minor: 2\n",
      "Second leading principal minor: 0\n",
      "Third leading principal minor: 0\n"
     ]
    }
   ],
   "source": [
    "A1 = Matrix([[2]])\n",
    "print('First leading principal minor:', A1.det())\n",
    "A2 = Matrix([[2,2],[2,2]])\n",
    "print('Second leading principal minor:', A2.det())\n",
    "A3 = Matrix([[2,2,2],[2,2,2],[2,2,0]])\n",
    "print('Third leading principal minor:', A3.det())"
   ]
  },
  {
   "cell_type": "code",
   "execution_count": 8,
   "metadata": {},
   "outputs": [
    {
     "data": {
      "text/plain": [
       "[0, -1.464101615137755?, 5.464101615137755?]"
      ]
     },
     "execution_count": 8,
     "metadata": {},
     "output_type": "execute_result"
    }
   ],
   "source": [
    "A = Matrix([[2,2,2],[2,2,2],[2,2,0]])\n",
    "\n",
    "A.eigenvalues()"
   ]
  },
  {
   "cell_type": "code",
   "execution_count": 9,
   "metadata": {},
   "outputs": [
    {
     "data": {
      "text/html": [
       "<html><script type=\"math/tex; mode=display\">\\newcommand{\\Bold}[1]{\\mathbf{#1}}\\left(\\begin{array}{rrrr}\n",
       "2 & 2 & 3 & 1 \\\\\n",
       "4 & 5 & 6 & 0 \\\\\n",
       "7 & 8 & 9 & 1 \\\\\n",
       "0 & 1 & 2 & 0\n",
       "\\end{array}\\right)</script></html>"
      ],
      "text/latex": [
       "\\begin{math}\n",
       "\\newcommand{\\Bold}[1]{\\mathbf{#1}}\\left(\\begin{array}{rrrr}\n",
       "2 & 2 & 3 & 1 \\\\\n",
       "4 & 5 & 6 & 0 \\\\\n",
       "7 & 8 & 9 & 1 \\\\\n",
       "0 & 1 & 2 & 0\n",
       "\\end{array}\\right)\n",
       "\\end{math}"
      ],
      "text/plain": [
       "[2 2 3 1]\n",
       "[4 5 6 0]\n",
       "[7 8 9 1]\n",
       "[0 1 2 0]"
      ]
     },
     "metadata": {},
     "output_type": "display_data"
    }
   ],
   "source": [
    "M = Matrix([[2,2,3,1],[4,5,6,0],[7,8,9,1],[0,1,2,0]])\n",
    "\n",
    "show(M)"
   ]
  },
  {
   "cell_type": "code",
   "execution_count": 10,
   "metadata": {},
   "outputs": [],
   "source": [
    "A = Matrix([[2,2,3],[4,5,6],[7,8,9]])\n",
    "B = Matrix([[1],[0],[1]])\n",
    "C = Matrix([[0,1,2]])\n",
    "D = Matrix([[0]])\n"
   ]
  },
  {
   "cell_type": "code",
   "execution_count": 11,
   "metadata": {},
   "outputs": [
    {
     "data": {
      "text/html": [
       "<html><script type=\"math/tex; mode=display\">\\newcommand{\\Bold}[1]{\\mathbf{#1}}\\left(\\begin{array}{rrr|r}\n",
       "33 & 39 & 47 & 5 \\\\\n",
       "70 & 81 & 96 & 10 \\\\\n",
       "109 & 127 & 152 & 16 \\\\\n",
       "\\hline\n",
       " 18 & 21 & 24 & 2\n",
       "\\end{array}\\right)</script></html>"
      ],
      "text/latex": [
       "\\begin{math}\n",
       "\\newcommand{\\Bold}[1]{\\mathbf{#1}}\\left(\\begin{array}{rrr|r}\n",
       "33 & 39 & 47 & 5 \\\\\n",
       "70 & 81 & 96 & 10 \\\\\n",
       "109 & 127 & 152 & 16 \\\\\n",
       "\\hline\n",
       " 18 & 21 & 24 & 2\n",
       "\\end{array}\\right)\n",
       "\\end{math}"
      ],
      "text/plain": [
       "[ 33  39  47|  5]\n",
       "[ 70  81  96| 10]\n",
       "[109 127 152| 16]\n",
       "[-----------+---]\n",
       "[ 18  21  24|  2]"
      ]
     },
     "metadata": {},
     "output_type": "display_data"
    }
   ],
   "source": [
    "A = Matrix([[2,2,3],[4,5,6],[7,8,9]])\n",
    "B = Matrix([[1],[0],[1]])\n",
    "C = Matrix([[0,1,2]])\n",
    "D = Matrix([[0]])\n",
    "\n",
    "M2_a = (A*A) + B*C\n",
    "M2_b = (A*B) + B*D\n",
    "M2_c = (C*A) + D*C\n",
    "M2_d = (C*B) + D*D\n",
    "\n",
    "show(block_matrix([ [M2_a, M2_b], [M2_c, M2_d] ]))"
   ]
  },
  {
   "cell_type": "code",
   "execution_count": 12,
   "metadata": {},
   "outputs": [
    {
     "data": {
      "text/html": [
       "<html><script type=\"math/tex; mode=display\">\\newcommand{\\Bold}[1]{\\mathbf{#1}}\\left(\\begin{array}{rrrr}\n",
       "33 & 39 & 47 & 5 \\\\\n",
       "70 & 81 & 96 & 10 \\\\\n",
       "109 & 127 & 152 & 16 \\\\\n",
       "18 & 21 & 24 & 2\n",
       "\\end{array}\\right)</script></html>"
      ],
      "text/latex": [
       "\\begin{math}\n",
       "\\newcommand{\\Bold}[1]{\\mathbf{#1}}\\left(\\begin{array}{rrrr}\n",
       "33 & 39 & 47 & 5 \\\\\n",
       "70 & 81 & 96 & 10 \\\\\n",
       "109 & 127 & 152 & 16 \\\\\n",
       "18 & 21 & 24 & 2\n",
       "\\end{array}\\right)\n",
       "\\end{math}"
      ],
      "text/plain": [
       "[ 33  39  47   5]\n",
       "[ 70  81  96  10]\n",
       "[109 127 152  16]\n",
       "[ 18  21  24   2]"
      ]
     },
     "metadata": {},
     "output_type": "display_data"
    }
   ],
   "source": [
    "show(M*M)"
   ]
  },
  {
   "cell_type": "code",
   "execution_count": 13,
   "metadata": {},
   "outputs": [
    {
     "data": {
      "text/html": [
       "<html><script type=\"math/tex; mode=display\">\\newcommand{\\Bold}[1]{\\mathbf{#1}}\\left(\\begin{array}{rrrrr}\n",
       "1 & 3 & -2 & 3 & -3 \\\\\n",
       "2 & 4 & -2 & 2 & 1 \\\\\n",
       "0 & -2 & 1 & 1 & 1\n",
       "\\end{array}\\right)</script></html>"
      ],
      "text/latex": [
       "\\begin{math}\n",
       "\\newcommand{\\Bold}[1]{\\mathbf{#1}}\\left(\\begin{array}{rrrrr}\n",
       "1 & 3 & -2 & 3 & -3 \\\\\n",
       "2 & 4 & -2 & 2 & 1 \\\\\n",
       "0 & -2 & 1 & 1 & 1\n",
       "\\end{array}\\right)\n",
       "\\end{math}"
      ],
      "text/plain": [
       "[ 1  3 -2  3 -3]\n",
       "[ 2  4 -2  2  1]\n",
       "[ 0 -2  1  1  1]"
      ]
     },
     "metadata": {},
     "output_type": "display_data"
    },
    {
     "data": {
      "text/html": [
       "<html><script type=\"math/tex; mode=display\">\\newcommand{\\Bold}[1]{\\mathbf{#1}}\\left(\\begin{array}{rr}\n",
       "1 & 0 \\\\\n",
       "2 & 1 \\\\\n",
       "3 & 3 \\\\\n",
       "2 & 2 \\\\\n",
       "1 & 2\n",
       "\\end{array}\\right)</script></html>"
      ],
      "text/latex": [
       "\\begin{math}\n",
       "\\newcommand{\\Bold}[1]{\\mathbf{#1}}\\left(\\begin{array}{rr}\n",
       "1 & 0 \\\\\n",
       "2 & 1 \\\\\n",
       "3 & 3 \\\\\n",
       "2 & 2 \\\\\n",
       "1 & 2\n",
       "\\end{array}\\right)\n",
       "\\end{math}"
      ],
      "text/plain": [
       "[1 0]\n",
       "[2 1]\n",
       "[3 3]\n",
       "[2 2]\n",
       "[1 2]"
      ]
     },
     "metadata": {},
     "output_type": "display_data"
    }
   ],
   "source": [
    "M = Matrix([[1,3,-2,3,-3],[2,4,-2,2,1],[0,-2,1,1,1]])\n",
    "\n",
    "N = Matrix([[1,0],[2,1],[3,3],[2,2],[1,2]])\n",
    "\n",
    "show(M)\n",
    "show(N)"
   ]
  },
  {
   "cell_type": "code",
   "execution_count": 14,
   "metadata": {},
   "outputs": [
    {
     "data": {
      "text/html": [
       "<html><script type=\"math/tex; mode=display\">\\newcommand{\\Bold}[1]{\\mathbf{#1}}\\left(\\begin{array}{rrr|rr}\n",
       "1 & 3 & -2 & 3 & -3 \\\\\n",
       "2 & 4 & -2 & 2 & 1 \\\\\n",
       "\\hline\n",
       " 0 & -2 & 1 & 1 & 1\n",
       "\\end{array}\\right)</script></html>"
      ],
      "text/latex": [
       "\\begin{math}\n",
       "\\newcommand{\\Bold}[1]{\\mathbf{#1}}\\left(\\begin{array}{rrr|rr}\n",
       "1 & 3 & -2 & 3 & -3 \\\\\n",
       "2 & 4 & -2 & 2 & 1 \\\\\n",
       "\\hline\n",
       " 0 & -2 & 1 & 1 & 1\n",
       "\\end{array}\\right)\n",
       "\\end{math}"
      ],
      "text/plain": [
       "[ 1  3 -2| 3 -3]\n",
       "[ 2  4 -2| 2  1]\n",
       "[--------+-----]\n",
       "[ 0 -2  1| 1  1]"
      ]
     },
     "metadata": {},
     "output_type": "display_data"
    }
   ],
   "source": [
    "M_a = Matrix([[1,3,-2],[2,4,-2]])\n",
    "M_b = Matrix([[3,-3],[2,1]])\n",
    "M_c = Matrix([[0,-2, 1]])\n",
    "M_d = Matrix([[1,1]])\n",
    "\n",
    "show(block_matrix([ [M_a, M_b], [M_c, M_d] ]))"
   ]
  },
  {
   "cell_type": "code",
   "execution_count": 15,
   "metadata": {},
   "outputs": [
    {
     "data": {
      "text/html": [
       "<html><script type=\"math/tex; mode=display\">\\newcommand{\\Bold}[1]{\\mathbf{#1}}\\left(\\begin{array}{rr}\n",
       "1 & 0 \\\\\n",
       "2 & 1 \\\\\n",
       "3 & 3 \\\\\n",
       "\\hline\n",
       " 2 & 2 \\\\\n",
       "1 & 2\n",
       "\\end{array}\\right)</script></html>"
      ],
      "text/latex": [
       "\\begin{math}\n",
       "\\newcommand{\\Bold}[1]{\\mathbf{#1}}\\left(\\begin{array}{rr}\n",
       "1 & 0 \\\\\n",
       "2 & 1 \\\\\n",
       "3 & 3 \\\\\n",
       "\\hline\n",
       " 2 & 2 \\\\\n",
       "1 & 2\n",
       "\\end{array}\\right)\n",
       "\\end{math}"
      ],
      "text/plain": [
       "[1 0]\n",
       "[2 1]\n",
       "[3 3]\n",
       "[---]\n",
       "[2 2]\n",
       "[1 2]"
      ]
     },
     "metadata": {},
     "output_type": "display_data"
    }
   ],
   "source": [
    "N_a = Matrix([[1,0],[2,1],[3,3]])\n",
    "N_b = Matrix([[2,2],[1,2]])\n",
    "\n",
    "show(block_matrix([ [N_a], [N_b] ]))"
   ]
  },
  {
   "cell_type": "code",
   "execution_count": 16,
   "metadata": {},
   "outputs": [
    {
     "data": {
      "text/plain": [
       "[ 4 -3]\n",
       "[ 9  4]\n",
       "[ 2  5]"
      ]
     },
     "execution_count": 16,
     "metadata": {},
     "output_type": "execute_result"
    }
   ],
   "source": [
    "M*N"
   ]
  },
  {
   "cell_type": "code",
   "execution_count": 17,
   "metadata": {},
   "outputs": [
    {
     "data": {
      "text/plain": [
       "[ 1  3 -2]\n",
       "[ 2  4 -2]"
      ]
     },
     "execution_count": 17,
     "metadata": {},
     "output_type": "execute_result"
    }
   ],
   "source": [
    "M_a"
   ]
  },
  {
   "cell_type": "code",
   "execution_count": 18,
   "metadata": {},
   "outputs": [
    {
     "data": {
      "text/html": [
       "<html><script type=\"math/tex; mode=display\">\\newcommand{\\Bold}[1]{\\mathbf{#1}}\\left(\\begin{array}{rr}\n",
       "4 & -3 \\\\\n",
       "9 & 4 \\\\\n",
       "\\hline\n",
       " 2 & 5\n",
       "\\end{array}\\right)</script></html>"
      ],
      "text/latex": [
       "\\begin{math}\n",
       "\\newcommand{\\Bold}[1]{\\mathbf{#1}}\\left(\\begin{array}{rr}\n",
       "4 & -3 \\\\\n",
       "9 & 4 \\\\\n",
       "\\hline\n",
       " 2 & 5\n",
       "\\end{array}\\right)\n",
       "\\end{math}"
      ],
      "text/plain": [
       "[ 4 -3]\n",
       "[ 9  4]\n",
       "[-----]\n",
       "[ 2  5]"
      ]
     },
     "metadata": {},
     "output_type": "display_data"
    }
   ],
   "source": [
    "a = M_a * N_a \n",
    "b = M_b * N_b\n",
    "c = M_c * N_a\n",
    "d = M_d * N_b\n",
    "\n",
    "MN_A = a + b\n",
    "MN_B = c + d\n",
    "\n",
    "\n",
    "show(block_matrix([ [MN_A], [MN_B] ]))"
   ]
  },
  {
   "cell_type": "code",
   "execution_count": 19,
   "metadata": {},
   "outputs": [
    {
     "data": {
      "text/html": [
       "<html><script type=\"math/tex; mode=display\">\\newcommand{\\Bold}[1]{\\mathbf{#1}}\\left(\\begin{array}{rr}\n",
       "4 & -3 \\\\\n",
       "9 & 4 \\\\\n",
       "2 & 5\n",
       "\\end{array}\\right)</script></html>"
      ],
      "text/latex": [
       "\\begin{math}\n",
       "\\newcommand{\\Bold}[1]{\\mathbf{#1}}\\left(\\begin{array}{rr}\n",
       "4 & -3 \\\\\n",
       "9 & 4 \\\\\n",
       "2 & 5\n",
       "\\end{array}\\right)\n",
       "\\end{math}"
      ],
      "text/plain": [
       "[ 4 -3]\n",
       "[ 9  4]\n",
       "[ 2  5]"
      ]
     },
     "metadata": {},
     "output_type": "display_data"
    }
   ],
   "source": [
    "show(M*N)"
   ]
  },
  {
   "cell_type": "code",
   "execution_count": 20,
   "metadata": {},
   "outputs": [
    {
     "data": {
      "text/html": [
       "<html><script type=\"math/tex; mode=display\">\\newcommand{\\Bold}[1]{\\mathbf{#1}}\\left(\\begin{array}{rrr|rrr}\n",
       "2 & 0 & 0 & 10 & 0 & 0 \\\\\n",
       "0 & 5 & 0 & 0 & 25 & 0 \\\\\n",
       "0 & 0 & 10 & 0 & 0 & 50 \\\\\n",
       "\\hline\n",
       " -2 & 0 & 0 & 20 & 0 & 0 \\\\\n",
       "0 & -5 & 0 & 0 & 50 & 0 \\\\\n",
       "0 & 0 & -10 & 0 & 0 & 100\n",
       "\\end{array}\\right)</script></html>"
      ],
      "text/latex": [
       "\\begin{math}\n",
       "\\newcommand{\\Bold}[1]{\\mathbf{#1}}\\left(\\begin{array}{rrr|rrr}\n",
       "2 & 0 & 0 & 10 & 0 & 0 \\\\\n",
       "0 & 5 & 0 & 0 & 25 & 0 \\\\\n",
       "0 & 0 & 10 & 0 & 0 & 50 \\\\\n",
       "\\hline\n",
       " -2 & 0 & 0 & 20 & 0 & 0 \\\\\n",
       "0 & -5 & 0 & 0 & 50 & 0 \\\\\n",
       "0 & 0 & -10 & 0 & 0 & 100\n",
       "\\end{array}\\right)\n",
       "\\end{math}"
      ],
      "text/plain": [
       "[  2   0   0| 10   0   0]\n",
       "[  0   5   0|  0  25   0]\n",
       "[  0   0  10|  0   0  50]\n",
       "[-----------+-----------]\n",
       "[ -2   0   0| 20   0   0]\n",
       "[  0  -5   0|  0  50   0]\n",
       "[  0   0 -10|  0   0 100]"
      ]
     },
     "metadata": {},
     "output_type": "display_data"
    }
   ],
   "source": [
    "A = Matrix([[2,0,0],[0,5,0],[0,0,10]])\n",
    "\n",
    "show(block_matrix([ [A, 5*A], [-A,10*A] ]))"
   ]
  },
  {
   "cell_type": "markdown",
   "metadata": {},
   "source": [
    "## Start Question 2 C"
   ]
  },
  {
   "cell_type": "code",
   "execution_count": 21,
   "metadata": {},
   "outputs": [
    {
     "data": {
      "text/html": [
       "<html><script type=\"math/tex; mode=display\">\\newcommand{\\Bold}[1]{\\mathbf{#1}}\\left(\\begin{array}{rrrrr}\n",
       "1 & 0 & 0 & 0 & -\\frac{190}{67} \\\\\n",
       "0 & 1 & 0 & 0 & \\frac{109}{67} \\\\\n",
       "0 & 0 & 1 & 0 & \\frac{113}{67} \\\\\n",
       "0 & 0 & 0 & 1 & \\frac{203}{67}\n",
       "\\end{array}\\right)</script></html>"
      ],
      "text/latex": [
       "\\begin{math}\n",
       "\\newcommand{\\Bold}[1]{\\mathbf{#1}}\\left(\\begin{array}{rrrrr}\n",
       "1 & 0 & 0 & 0 & -\\frac{190}{67} \\\\\n",
       "0 & 1 & 0 & 0 & \\frac{109}{67} \\\\\n",
       "0 & 0 & 1 & 0 & \\frac{113}{67} \\\\\n",
       "0 & 0 & 0 & 1 & \\frac{203}{67}\n",
       "\\end{array}\\right)\n",
       "\\end{math}"
      ],
      "text/plain": [
       "[      1       0       0       0 -190/67]\n",
       "[      0       1       0       0  109/67]\n",
       "[      0       0       1       0  113/67]\n",
       "[      0       0       0       1  203/67]"
      ]
     },
     "metadata": {},
     "output_type": "display_data"
    }
   ],
   "source": [
    "b = vector([2,3,4,5])\n",
    "\n",
    "A = Matrix([[1,-2,3,1],[3,5,2,0],[-1,3,-4,1],[0,1,2,0]])\n",
    "\n",
    "show(A.augment(b).rref())"
   ]
  },
  {
   "cell_type": "code",
   "execution_count": 22,
   "metadata": {},
   "outputs": [
    {
     "name": "stdout",
     "output_type": "stream",
     "text": [
      "is A_11 invertible? True\n"
     ]
    },
    {
     "data": {
      "text/html": [
       "<html><script type=\"math/tex; mode=display\">\\newcommand{\\Bold}[1]{\\mathbf{#1}}\\left(\\begin{array}{rrr|r}\n",
       "1 & -2 & 3 & 1 \\\\\n",
       "3 & 5 & 2 & 0 \\\\\n",
       "-1 & 3 & -4 & 1 \\\\\n",
       "\\hline\n",
       " 0 & 1 & 2 & 0\n",
       "\\end{array}\\right)</script></html>"
      ],
      "text/latex": [
       "\\begin{math}\n",
       "\\newcommand{\\Bold}[1]{\\mathbf{#1}}\\left(\\begin{array}{rrr|r}\n",
       "1 & -2 & 3 & 1 \\\\\n",
       "3 & 5 & 2 & 0 \\\\\n",
       "-1 & 3 & -4 & 1 \\\\\n",
       "\\hline\n",
       " 0 & 1 & 2 & 0\n",
       "\\end{array}\\right)\n",
       "\\end{math}"
      ],
      "text/plain": [
       "[ 1 -2  3| 1]\n",
       "[ 3  5  2| 0]\n",
       "[-1  3 -4| 1]\n",
       "[--------+--]\n",
       "[ 0  1  2| 0]"
      ]
     },
     "metadata": {},
     "output_type": "display_data"
    }
   ],
   "source": [
    "A_11 = Matrix([[1,-2,3],[3,5,2],[-1,3,-4]])\n",
    "A_12 = Matrix([[1],[0],[1]])\n",
    "A_21 = Matrix([[0,1,2]])\n",
    "A_22 = Matrix([[0]])\n",
    "\n",
    "\n",
    "print('is A_11 invertible?', A_11.det != 0)\n",
    "show(block_matrix([ [A_11, A_12], [A_21, A_22] ]))\n"
   ]
  },
  {
   "cell_type": "code",
   "execution_count": 23,
   "metadata": {},
   "outputs": [
    {
     "data": {
      "text/html": [
       "<html><script type=\"math/tex; mode=display\">\\newcommand{\\Bold}[1]{\\mathbf{#1}}\\left(\\begin{array}{r}\n",
       "2 \\\\\n",
       "3 \\\\\n",
       "4 \\\\\n",
       "\\hline\n",
       " 5\n",
       "\\end{array}\\right)</script></html>"
      ],
      "text/latex": [
       "\\begin{math}\n",
       "\\newcommand{\\Bold}[1]{\\mathbf{#1}}\\left(\\begin{array}{r}\n",
       "2 \\\\\n",
       "3 \\\\\n",
       "4 \\\\\n",
       "\\hline\n",
       " 5\n",
       "\\end{array}\\right)\n",
       "\\end{math}"
      ],
      "text/plain": [
       "[2]\n",
       "[3]\n",
       "[4]\n",
       "[-]\n",
       "[5]"
      ]
     },
     "metadata": {},
     "output_type": "display_data"
    }
   ],
   "source": [
    "b_1 = Matrix([[2],[3],[4]])\n",
    "b_2 = Matrix([[5]])\n",
    "\n",
    "show(block_matrix([ [b_1], [b_2] ]))"
   ]
  },
  {
   "cell_type": "code",
   "execution_count": 24,
   "metadata": {},
   "outputs": [
    {
     "name": "stdout",
     "output_type": "stream",
     "text": [
      "[203/67]\n"
     ]
    }
   ],
   "source": [
    "var('x_2,x_1')\n",
    "\n",
    "S = A_22 - (A_21*A_11.inverse()*A_12)\n",
    "\n",
    "right_hand = b_2 - A_21*A_11.inverse()*b_1\n",
    "\n",
    "x_2 = right_hand/S\n",
    "\n",
    "print(x_2)"
   ]
  },
  {
   "cell_type": "code",
   "execution_count": 25,
   "metadata": {},
   "outputs": [
    {
     "name": "stdout",
     "output_type": "stream",
     "text": [
      "[-190/67]\n",
      "[ 109/67]\n",
      "[ 113/67]\n"
     ]
    }
   ],
   "source": [
    "x_1 = A_11.inverse()*(b_1 - A_12*x_2)\n",
    "print(x_1)"
   ]
  },
  {
   "cell_type": "code",
   "execution_count": 26,
   "metadata": {},
   "outputs": [
    {
     "data": {
      "text/plain": [
       "[(a*u + b*v)*u + (b*u + c*v)*v]"
      ]
     },
     "execution_count": 26,
     "metadata": {},
     "output_type": "execute_result"
    }
   ],
   "source": [
    "var('u,v,a,b,c')\n",
    "x = Matrix([[u],[v]])\n",
    "\n",
    "A = Matrix([[a,b],[b,c]])\n",
    "\n",
    "x.transpose()*A*x"
   ]
  },
  {
   "cell_type": "code",
   "execution_count": 27,
   "metadata": {},
   "outputs": [
    {
     "data": {
      "text/plain": [
       "(u, v) |--> (2*a*u + 2*b*v, 2*b*u + 2*c*v)"
      ]
     },
     "execution_count": 27,
     "metadata": {},
     "output_type": "execute_result"
    }
   ],
   "source": [
    "f(u,v) = (a*u + b*v)*u + (b*u + c*v)*v\n",
    "\n",
    "f.diff()"
   ]
  },
  {
   "cell_type": "code",
   "execution_count": 28,
   "metadata": {},
   "outputs": [
    {
     "data": {
      "text/html": [
       "<html><script type=\"math/tex; mode=display\">\\newcommand{\\Bold}[1]{\\mathbf{#1}}\\left(\\begin{array}{rrrr}\n",
       "1 & -1 & 2 & 0 \\\\\n",
       "-1 & 4 & -1 & 1 \\\\\n",
       "2 & -1 & 6 & -2 \\\\\n",
       "0 & 1 & -2 & 4\n",
       "\\end{array}\\right)</script></html>"
      ],
      "text/latex": [
       "\\begin{math}\n",
       "\\newcommand{\\Bold}[1]{\\mathbf{#1}}\\left(\\begin{array}{rrrr}\n",
       "1 & -1 & 2 & 0 \\\\\n",
       "-1 & 4 & -1 & 1 \\\\\n",
       "2 & -1 & 6 & -2 \\\\\n",
       "0 & 1 & -2 & 4\n",
       "\\end{array}\\right)\n",
       "\\end{math}"
      ],
      "text/plain": [
       "[ 1 -1  2  0]\n",
       "[-1  4 -1  1]\n",
       "[ 2 -1  6 -2]\n",
       "[ 0  1 -2  4]"
      ]
     },
     "metadata": {},
     "output_type": "display_data"
    },
    {
     "name": "stdout",
     "output_type": "stream",
     "text": [
      "symmetric? True\n",
      "eigenvalues: [0.02160777573816380?, 3.105339347177266?, 3.605034605844043?, 8.26801827124053?]\n"
     ]
    }
   ],
   "source": [
    "X = Matrix([[1,-1,2,0],[-1,4,-1,1],[2,-1,6,-2],[0,1,-2,4]])\n",
    "\n",
    "show(X)\n",
    "\n",
    "print('symmetric?', X==X.transpose())\n",
    "print('eigenvalues:',X.eigenvalues())"
   ]
  },
  {
   "cell_type": "code",
   "execution_count": 29,
   "metadata": {},
   "outputs": [
    {
     "data": {
      "text/html": [
       "<html><script type=\"math/tex; mode=display\">\\newcommand{\\Bold}[1]{\\mathbf{#1}}\\left(\\begin{array}{rr}\n",
       "1 & -1 \\\\\n",
       "-1 & 4\n",
       "\\end{array}\\right)</script></html>"
      ],
      "text/latex": [
       "\\begin{math}\n",
       "\\newcommand{\\Bold}[1]{\\mathbf{#1}}\\left(\\begin{array}{rr}\n",
       "1 & -1 \\\\\n",
       "-1 & 4\n",
       "\\end{array}\\right)\n",
       "\\end{math}"
      ],
      "text/plain": [
       "[ 1 -1]\n",
       "[-1  4]"
      ]
     },
     "metadata": {},
     "output_type": "display_data"
    },
    {
     "name": "stdout",
     "output_type": "stream",
     "text": [
      "symmetric? True\n",
      "eigenvalues: [0.6972243622680054?, 4.302775637731994?]\n"
     ]
    }
   ],
   "source": [
    "A = Matrix([[1,-1],[-1,4]])\n",
    "\n",
    "show(A)\n",
    "print('symmetric?', A==A.transpose())\n",
    "print('eigenvalues:',A.eigenvalues())"
   ]
  },
  {
   "cell_type": "code",
   "execution_count": 30,
   "metadata": {},
   "outputs": [
    {
     "data": {
      "text/html": [
       "<html><script type=\"math/tex; mode=display\">\\newcommand{\\Bold}[1]{\\mathbf{#1}}\\left(\\begin{array}{rr}\n",
       "\\frac{5}{3} & -\\frac{7}{3} \\\\\n",
       "-\\frac{7}{3} & \\frac{11}{3}\n",
       "\\end{array}\\right)</script></html>"
      ],
      "text/latex": [
       "\\begin{math}\n",
       "\\newcommand{\\Bold}[1]{\\mathbf{#1}}\\left(\\begin{array}{rr}\n",
       "\\frac{5}{3} & -\\frac{7}{3} \\\\\n",
       "-\\frac{7}{3} & \\frac{11}{3}\n",
       "\\end{array}\\right)\n",
       "\\end{math}"
      ],
      "text/plain": [
       "[ 5/3 -7/3]\n",
       "[-7/3 11/3]"
      ]
     },
     "metadata": {},
     "output_type": "display_data"
    },
    {
     "name": "stdout",
     "output_type": "stream",
     "text": [
      "symmetric? True\n",
      "eigenvalues: [0.6972243622680054?, 4.302775637731994?]\n"
     ]
    }
   ],
   "source": [
    "B = Matrix([[2,0],[-1,1]])\n",
    "Bt = B.transpose()\n",
    "C = Matrix([[6,-2],[-2,4]])\n",
    "\n",
    "\n",
    "S = C - Bt*A.inverse()*B\n",
    "\n",
    "show(S)\n",
    "print('symmetric?', A==A.transpose())\n",
    "print('eigenvalues:',A.eigenvalues())"
   ]
  },
  {
   "cell_type": "code",
   "execution_count": null,
   "metadata": {},
   "outputs": [],
   "source": []
  }
 ],
 "metadata": {
  "kernelspec": {
   "display_name": "SageMath 9.2",
   "language": "sage",
   "name": "sagemath"
  },
  "language_info": {
   "codemirror_mode": {
    "name": "ipython",
    "version": 3
   },
   "file_extension": ".py",
   "mimetype": "text/x-python",
   "name": "python",
   "nbconvert_exporter": "python",
   "pygments_lexer": "ipython3",
   "version": "3.7.7"
  }
 },
 "nbformat": 4,
 "nbformat_minor": 4
}
